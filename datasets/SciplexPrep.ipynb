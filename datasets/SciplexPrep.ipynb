{
 "cells": [
  {
   "cell_type": "code",
   "execution_count": 10,
   "metadata": {
    "ExecuteTime": {
     "start_time": "2024-06-07T23:08:58.418988Z",
     "end_time": "2024-06-07T23:08:58.423006Z"
    }
   },
   "outputs": [],
   "source": [
    "import sys, os\n",
    "module_path = os.path.abspath(os.path.join('..'))\n",
    "if module_path not in sys.path:\n",
    "    sys.path.append(module_path)\n",
    "\n",
    "import numpy as np\n",
    "import pandas as pd\n",
    "import scanpy as sc"
   ]
  },
  {
   "cell_type": "markdown",
   "metadata": {},
   "source": [
    "We load the single-cell data using scanpy. The single-cell data is stored in a special data structure called AnnData (short: adata)."
   ]
  },
  {
   "cell_type": "code",
   "execution_count": 11,
   "metadata": {
    "ExecuteTime": {
     "start_time": "2024-06-07T23:08:45.499470Z",
     "end_time": "2024-06-07T23:09:07.292816Z"
    }
   },
   "outputs": [
    {
     "name": "stderr",
     "output_type": "stream",
     "text": [
      "/home/oujingfeng/anaconda3/envs/chempertATT/lib/python3.8/site-packages/anndata/_core/anndata.py:1763: FutureWarning: The AnnData.concatenate method is deprecated in favour of the anndata.concat function. Please use anndata.concat instead.\n",
      "\n",
      "See the tutorial for concat at: https://anndata.readthedocs.io/en/latest/concatenation.html\n",
      "  warnings.warn(\n"
     ]
    },
    {
     "data": {
      "text/plain": "AnnData object with n_obs × n_vars = 581777 × 58347\n    obs: 'cell_type', 'dose', 'dose_character', 'dose_pattern', 'g1s_score', 'g2m_score', 'pathway', 'pathway_level_1', 'pathway_level_2', 'product_dose', 'product_name', 'proliferation_index', 'replicate', 'size_factor', 'target', 'vehicle', 'batch'\n    var: 'id', 'num_cells_expressed-0-0', 'num_cells_expressed-1-0', 'num_cells_expressed-1'"
     },
     "execution_count": 2,
     "metadata": {},
     "output_type": "execute_result"
    },
    {
     "name": "stderr",
     "output_type": "stream",
     "text": [
      "/home/oujingfeng/anaconda3/envs/chempertATT/lib/python3.8/site-packages/anndata/_core/anndata.py:1763: FutureWarning: The AnnData.concatenate method is deprecated in favour of the anndata.concat function. Please use anndata.concat instead.\n",
      "\n",
      "See the tutorial for concat at: https://anndata.readthedocs.io/en/latest/concatenation.html\n",
      "  warnings.warn(\n"
     ]
    },
    {
     "data": {
      "text/plain": "AnnData object with n_obs × n_vars = 581777 × 58347\n    obs: 'cell_type', 'dose', 'dose_character', 'dose_pattern', 'g1s_score', 'g2m_score', 'pathway', 'pathway_level_1', 'pathway_level_2', 'product_dose', 'product_name', 'proliferation_index', 'replicate', 'size_factor', 'target', 'vehicle', 'batch'\n    var: 'id', 'num_cells_expressed-0-0', 'num_cells_expressed-1-0', 'num_cells_expressed-1'"
     },
     "execution_count": 11,
     "metadata": {},
     "output_type": "execute_result"
    }
   ],
   "source": [
    "adatas = []\n",
    "for i in range(5):\n",
    "    adatas.append(sc.read(f'sciplex_raw_chunk_{i}.h5ad'))\n",
    "adata = adatas[0].concatenate(adatas[1:])\n",
    "adata"
   ]
  },
  {
   "cell_type": "markdown",
   "metadata": {},
   "source": [
    "The counts are stored in adata.X\n"
   ]
  },
  {
   "cell_type": "code",
   "execution_count": 12,
   "metadata": {
    "ExecuteTime": {
     "start_time": "2024-06-07T23:08:45.499470Z",
     "end_time": "2024-06-07T23:09:07.331831Z"
    }
   },
   "outputs": [
    {
     "data": {
      "text/plain": "<581777x58347 sparse matrix of type '<class 'numpy.float32'>'\n\twith 761621411 stored elements in Compressed Sparse Row format>"
     },
     "execution_count": 3,
     "metadata": {},
     "output_type": "execute_result"
    },
    {
     "data": {
      "text/plain": "<581777x58347 sparse matrix of type '<class 'numpy.float32'>'\n\twith 761621411 stored elements in Compressed Sparse Row format>"
     },
     "execution_count": 12,
     "metadata": {},
     "output_type": "execute_result"
    }
   ],
   "source": [
    "adata.X"
   ]
  },
  {
   "cell_type": "markdown",
   "metadata": {},
   "source": [
    "adata.obs is a dataframe containing annotation for each cell, such as e.g. batch, cell type, perturbation. Or other technical annotations at the cell level."
   ]
  },
  {
   "cell_type": "code",
   "execution_count": 13,
   "metadata": {
    "ExecuteTime": {
     "start_time": "2024-06-07T23:08:45.607406Z",
     "end_time": "2024-06-07T23:09:07.332829Z"
    }
   },
   "outputs": [
    {
     "data": {
      "text/plain": "                                   cell_type     dose dose_character  \\\nindex                                                                  \nA01_E09_RT_BC_100_Lig_BC_245-0-0-0      A549   1000.0           1000   \nA01_E09_RT_BC_100_Lig_BC_306-0-0-0      A549     10.0             10   \nA01_E09_RT_BC_101_Lig_BC_109-0-0-0      A549      0.0              0   \nA01_E09_RT_BC_101_Lig_BC_229-0-0-0      A549     10.0             10   \nA01_E09_RT_BC_101_Lig_BC_280-0-0-0      A549   1000.0           1000   \n...                                      ...      ...            ...   \nH12_F10_RT_BC_99_Lig_BC_172-1-4         K562   1000.0           1000   \nH12_F10_RT_BC_99_Lig_BC_226-1-4         K562    100.0            100   \nH12_F10_RT_BC_99_Lig_BC_337-1-4         K562     10.0             10   \nH12_F10_RT_BC_9_Lig_BC_21-1-4           K562  10000.0          10000   \nH12_F10_RT_BC_9_Lig_BC_274-1-4          K562     10.0             10   \n\n                                   dose_pattern  g1s_score  g2m_score  \\\nindex                                                                   \nA01_E09_RT_BC_100_Lig_BC_245-0-0-0            2   1.155964   2.475312   \nA01_E09_RT_BC_100_Lig_BC_306-0-0-0            4   0.000000   1.980748   \nA01_E09_RT_BC_101_Lig_BC_109-0-0-0            3   0.000000   0.000000   \nA01_E09_RT_BC_101_Lig_BC_229-0-0-0            4   1.817254   2.801225   \nA01_E09_RT_BC_101_Lig_BC_280-0-0-0            2   1.637016   0.867074   \n...                                         ...        ...        ...   \nH12_F10_RT_BC_99_Lig_BC_172-1-4               2   0.000000   1.410709   \nH12_F10_RT_BC_99_Lig_BC_226-1-4               3   1.361383   1.361383   \nH12_F10_RT_BC_99_Lig_BC_337-1-4               4   1.956512   2.080587   \nH12_F10_RT_BC_9_Lig_BC_21-1-4                 1   0.929037   1.402202   \nH12_F10_RT_BC_9_Lig_BC_274-1-4                4   1.601367   1.783351   \n\n                                                     pathway  \\\nindex                                                          \nA01_E09_RT_BC_100_Lig_BC_245-0-0-0             TGF-beta/Smad   \nA01_E09_RT_BC_100_Lig_BC_306-0-0-0                DNA Damage   \nA01_E09_RT_BC_101_Lig_BC_109-0-0-0                   Vehicle   \nA01_E09_RT_BC_101_Lig_BC_229-0-0-0                 Apoptosis   \nA01_E09_RT_BC_101_Lig_BC_280-0-0-0                 Ubiquitin   \n...                                                      ...   \nH12_F10_RT_BC_99_Lig_BC_172-1-4                 Angiogenesis   \nH12_F10_RT_BC_99_Lig_BC_226-1-4                  Epigenetics   \nH12_F10_RT_BC_99_Lig_BC_337-1-4                  Epigenetics   \nH12_F10_RT_BC_9_Lig_BC_21-1-4                    Epigenetics   \nH12_F10_RT_BC_9_Lig_BC_274-1-4      Endocrinology & Hormones   \n\n                                                          pathway_level_1  \\\nindex                                                                       \nA01_E09_RT_BC_100_Lig_BC_245-0-0-0                          PKC signaling   \nA01_E09_RT_BC_100_Lig_BC_306-0-0-0                DNA damage & DNA repair   \nA01_E09_RT_BC_101_Lig_BC_109-0-0-0                                Vehicle   \nA01_E09_RT_BC_101_Lig_BC_229-0-0-0  Protein folding & Protein degradation   \nA01_E09_RT_BC_101_Lig_BC_280-0-0-0                  Epigenetic regulation   \n...                                                                   ...   \nH12_F10_RT_BC_99_Lig_BC_172-1-4                 Tyrosine kinase signaling   \nH12_F10_RT_BC_99_Lig_BC_226-1-4                        JAK/STAT signaling   \nH12_F10_RT_BC_99_Lig_BC_337-1-4                     Epigenetic regulation   \nH12_F10_RT_BC_9_Lig_BC_21-1-4                       Epigenetic regulation   \nH12_F10_RT_BC_9_Lig_BC_274-1-4                 Nuclear receptor signaling   \n\n                                                 pathway_level_2  \\\nindex                                                              \nA01_E09_RT_BC_100_Lig_BC_245-0-0-0                 PKC activitiy   \nA01_E09_RT_BC_100_Lig_BC_306-0-0-0             Nucleotide analog   \nA01_E09_RT_BC_101_Lig_BC_109-0-0-0                       Vehicle   \nA01_E09_RT_BC_101_Lig_BC_229-0-0-0  E3 ubiquitin ligase activity   \nA01_E09_RT_BC_101_Lig_BC_280-0-0-0         Histone deacetylation   \n...                                                          ...   \nH12_F10_RT_BC_99_Lig_BC_172-1-4                     RTK activity   \nH12_F10_RT_BC_99_Lig_BC_226-1-4              JAK kinase activity   \nH12_F10_RT_BC_99_Lig_BC_337-1-4            Histone deacetylation   \nH12_F10_RT_BC_9_Lig_BC_21-1-4              Histone deacetylation   \nH12_F10_RT_BC_9_Lig_BC_274-1-4         Nuclear receptor activity   \n\n                                                               product_dose  \\\nindex                                                                         \nA01_E09_RT_BC_100_Lig_BC_245-0-0-0              Enzastaurin (LY317615)_1000   \nA01_E09_RT_BC_100_Lig_BC_306-0-0-0                           Raltitrexed_10   \nA01_E09_RT_BC_101_Lig_BC_109-0-0-0                                Vehicle_0   \nA01_E09_RT_BC_101_Lig_BC_229-0-0-0                Lenalidomide (CC-5013)_10   \nA01_E09_RT_BC_101_Lig_BC_280-0-0-0                   Divalproex Sodium_1000   \n...                                                                     ...   \nH12_F10_RT_BC_99_Lig_BC_172-1-4                               PD173074_1000   \nH12_F10_RT_BC_99_Lig_BC_226-1-4     Baricitinib (LY3009104, INCB028050)_100   \nH12_F10_RT_BC_99_Lig_BC_337-1-4                      Entinostat (MS-275)_10   \nH12_F10_RT_BC_9_Lig_BC_21-1-4                             Resveratrol_10000   \nH12_F10_RT_BC_9_Lig_BC_274-1-4                                  Andarine_10   \n\n                                                           product_name  \\\nindex                                                                     \nA01_E09_RT_BC_100_Lig_BC_245-0-0-0               Enzastaurin (LY317615)   \nA01_E09_RT_BC_100_Lig_BC_306-0-0-0                          Raltitrexed   \nA01_E09_RT_BC_101_Lig_BC_109-0-0-0                              Vehicle   \nA01_E09_RT_BC_101_Lig_BC_229-0-0-0               Lenalidomide (CC-5013)   \nA01_E09_RT_BC_101_Lig_BC_280-0-0-0                    Divalproex Sodium   \n...                                                                 ...   \nH12_F10_RT_BC_99_Lig_BC_172-1-4                                PD173074   \nH12_F10_RT_BC_99_Lig_BC_226-1-4     Baricitinib (LY3009104, INCB028050)   \nH12_F10_RT_BC_99_Lig_BC_337-1-4                     Entinostat (MS-275)   \nH12_F10_RT_BC_9_Lig_BC_21-1-4                               Resveratrol   \nH12_F10_RT_BC_9_Lig_BC_274-1-4                                 Andarine   \n\n                                    proliferation_index replicate  \\\nindex                                                               \nA01_E09_RT_BC_100_Lig_BC_245-0-0-0             2.643512      rep2   \nA01_E09_RT_BC_100_Lig_BC_306-0-0-0             1.980748      rep2   \nA01_E09_RT_BC_101_Lig_BC_109-0-0-0             0.000000      rep1   \nA01_E09_RT_BC_101_Lig_BC_229-0-0-0             3.073606      rep2   \nA01_E09_RT_BC_101_Lig_BC_280-0-0-0             1.874835      rep2   \n...                                                 ...       ...   \nH12_F10_RT_BC_99_Lig_BC_172-1-4                1.410709      rep1   \nH12_F10_RT_BC_99_Lig_BC_226-1-4                1.917388      rep1   \nH12_F10_RT_BC_99_Lig_BC_337-1-4                2.645024      rep2   \nH12_F10_RT_BC_9_Lig_BC_21-1-4                  1.722089      rep1   \nH12_F10_RT_BC_9_Lig_BC_274-1-4                 2.293501      rep1   \n\n                                    size_factor             target  vehicle  \\\nindex                                                                         \nA01_E09_RT_BC_100_Lig_BC_245-0-0-0     2.296651                PKC        0   \nA01_E09_RT_BC_100_Lig_BC_306-0-0-0     0.480141  DNA/RNA Synthesis        0   \nA01_E09_RT_BC_101_Lig_BC_109-0-0-0     0.516561            Vehicle        1   \nA01_E09_RT_BC_101_Lig_BC_229-0-0-0     0.387978          TNF-alpha        0   \nA01_E09_RT_BC_101_Lig_BC_280-0-0-0     0.724671               HDAC        0   \n...                                         ...                ...      ...   \nH12_F10_RT_BC_99_Lig_BC_172-1-4        0.645399         FGFR,VEGFR        0   \nH12_F10_RT_BC_99_Lig_BC_226-1-4        0.689279                JAK        0   \nH12_F10_RT_BC_99_Lig_BC_337-1-4        2.140055               HDAC        0   \nH12_F10_RT_BC_9_Lig_BC_21-1-4          0.652712  Autophagy,Sirtuin        0   \nH12_F10_RT_BC_9_Lig_BC_274-1-4         1.010150  Androgen Receptor        0   \n\n                                   batch  \nindex                                     \nA01_E09_RT_BC_100_Lig_BC_245-0-0-0     0  \nA01_E09_RT_BC_100_Lig_BC_306-0-0-0     0  \nA01_E09_RT_BC_101_Lig_BC_109-0-0-0     0  \nA01_E09_RT_BC_101_Lig_BC_229-0-0-0     0  \nA01_E09_RT_BC_101_Lig_BC_280-0-0-0     0  \n...                                  ...  \nH12_F10_RT_BC_99_Lig_BC_172-1-4        4  \nH12_F10_RT_BC_99_Lig_BC_226-1-4        4  \nH12_F10_RT_BC_99_Lig_BC_337-1-4        4  \nH12_F10_RT_BC_9_Lig_BC_21-1-4          4  \nH12_F10_RT_BC_9_Lig_BC_274-1-4         4  \n\n[581777 rows x 17 columns]",
      "text/html": "<div>\n<style scoped>\n    .dataframe tbody tr th:only-of-type {\n        vertical-align: middle;\n    }\n\n    .dataframe tbody tr th {\n        vertical-align: top;\n    }\n\n    .dataframe thead th {\n        text-align: right;\n    }\n</style>\n<table border=\"1\" class=\"dataframe\">\n  <thead>\n    <tr style=\"text-align: right;\">\n      <th></th>\n      <th>cell_type</th>\n      <th>dose</th>\n      <th>dose_character</th>\n      <th>dose_pattern</th>\n      <th>g1s_score</th>\n      <th>g2m_score</th>\n      <th>pathway</th>\n      <th>pathway_level_1</th>\n      <th>pathway_level_2</th>\n      <th>product_dose</th>\n      <th>product_name</th>\n      <th>proliferation_index</th>\n      <th>replicate</th>\n      <th>size_factor</th>\n      <th>target</th>\n      <th>vehicle</th>\n      <th>batch</th>\n    </tr>\n    <tr>\n      <th>index</th>\n      <th></th>\n      <th></th>\n      <th></th>\n      <th></th>\n      <th></th>\n      <th></th>\n      <th></th>\n      <th></th>\n      <th></th>\n      <th></th>\n      <th></th>\n      <th></th>\n      <th></th>\n      <th></th>\n      <th></th>\n      <th></th>\n      <th></th>\n    </tr>\n  </thead>\n  <tbody>\n    <tr>\n      <th>A01_E09_RT_BC_100_Lig_BC_245-0-0-0</th>\n      <td>A549</td>\n      <td>1000.0</td>\n      <td>1000</td>\n      <td>2</td>\n      <td>1.155964</td>\n      <td>2.475312</td>\n      <td>TGF-beta/Smad</td>\n      <td>PKC signaling</td>\n      <td>PKC activitiy</td>\n      <td>Enzastaurin (LY317615)_1000</td>\n      <td>Enzastaurin (LY317615)</td>\n      <td>2.643512</td>\n      <td>rep2</td>\n      <td>2.296651</td>\n      <td>PKC</td>\n      <td>0</td>\n      <td>0</td>\n    </tr>\n    <tr>\n      <th>A01_E09_RT_BC_100_Lig_BC_306-0-0-0</th>\n      <td>A549</td>\n      <td>10.0</td>\n      <td>10</td>\n      <td>4</td>\n      <td>0.000000</td>\n      <td>1.980748</td>\n      <td>DNA Damage</td>\n      <td>DNA damage &amp; DNA repair</td>\n      <td>Nucleotide analog</td>\n      <td>Raltitrexed_10</td>\n      <td>Raltitrexed</td>\n      <td>1.980748</td>\n      <td>rep2</td>\n      <td>0.480141</td>\n      <td>DNA/RNA Synthesis</td>\n      <td>0</td>\n      <td>0</td>\n    </tr>\n    <tr>\n      <th>A01_E09_RT_BC_101_Lig_BC_109-0-0-0</th>\n      <td>A549</td>\n      <td>0.0</td>\n      <td>0</td>\n      <td>3</td>\n      <td>0.000000</td>\n      <td>0.000000</td>\n      <td>Vehicle</td>\n      <td>Vehicle</td>\n      <td>Vehicle</td>\n      <td>Vehicle_0</td>\n      <td>Vehicle</td>\n      <td>0.000000</td>\n      <td>rep1</td>\n      <td>0.516561</td>\n      <td>Vehicle</td>\n      <td>1</td>\n      <td>0</td>\n    </tr>\n    <tr>\n      <th>A01_E09_RT_BC_101_Lig_BC_229-0-0-0</th>\n      <td>A549</td>\n      <td>10.0</td>\n      <td>10</td>\n      <td>4</td>\n      <td>1.817254</td>\n      <td>2.801225</td>\n      <td>Apoptosis</td>\n      <td>Protein folding &amp; Protein degradation</td>\n      <td>E3 ubiquitin ligase activity</td>\n      <td>Lenalidomide (CC-5013)_10</td>\n      <td>Lenalidomide (CC-5013)</td>\n      <td>3.073606</td>\n      <td>rep2</td>\n      <td>0.387978</td>\n      <td>TNF-alpha</td>\n      <td>0</td>\n      <td>0</td>\n    </tr>\n    <tr>\n      <th>A01_E09_RT_BC_101_Lig_BC_280-0-0-0</th>\n      <td>A549</td>\n      <td>1000.0</td>\n      <td>1000</td>\n      <td>2</td>\n      <td>1.637016</td>\n      <td>0.867074</td>\n      <td>Ubiquitin</td>\n      <td>Epigenetic regulation</td>\n      <td>Histone deacetylation</td>\n      <td>Divalproex Sodium_1000</td>\n      <td>Divalproex Sodium</td>\n      <td>1.874835</td>\n      <td>rep2</td>\n      <td>0.724671</td>\n      <td>HDAC</td>\n      <td>0</td>\n      <td>0</td>\n    </tr>\n    <tr>\n      <th>...</th>\n      <td>...</td>\n      <td>...</td>\n      <td>...</td>\n      <td>...</td>\n      <td>...</td>\n      <td>...</td>\n      <td>...</td>\n      <td>...</td>\n      <td>...</td>\n      <td>...</td>\n      <td>...</td>\n      <td>...</td>\n      <td>...</td>\n      <td>...</td>\n      <td>...</td>\n      <td>...</td>\n      <td>...</td>\n    </tr>\n    <tr>\n      <th>H12_F10_RT_BC_99_Lig_BC_172-1-4</th>\n      <td>K562</td>\n      <td>1000.0</td>\n      <td>1000</td>\n      <td>2</td>\n      <td>0.000000</td>\n      <td>1.410709</td>\n      <td>Angiogenesis</td>\n      <td>Tyrosine kinase signaling</td>\n      <td>RTK activity</td>\n      <td>PD173074_1000</td>\n      <td>PD173074</td>\n      <td>1.410709</td>\n      <td>rep1</td>\n      <td>0.645399</td>\n      <td>FGFR,VEGFR</td>\n      <td>0</td>\n      <td>4</td>\n    </tr>\n    <tr>\n      <th>H12_F10_RT_BC_99_Lig_BC_226-1-4</th>\n      <td>K562</td>\n      <td>100.0</td>\n      <td>100</td>\n      <td>3</td>\n      <td>1.361383</td>\n      <td>1.361383</td>\n      <td>Epigenetics</td>\n      <td>JAK/STAT signaling</td>\n      <td>JAK kinase activity</td>\n      <td>Baricitinib (LY3009104, INCB028050)_100</td>\n      <td>Baricitinib (LY3009104, INCB028050)</td>\n      <td>1.917388</td>\n      <td>rep1</td>\n      <td>0.689279</td>\n      <td>JAK</td>\n      <td>0</td>\n      <td>4</td>\n    </tr>\n    <tr>\n      <th>H12_F10_RT_BC_99_Lig_BC_337-1-4</th>\n      <td>K562</td>\n      <td>10.0</td>\n      <td>10</td>\n      <td>4</td>\n      <td>1.956512</td>\n      <td>2.080587</td>\n      <td>Epigenetics</td>\n      <td>Epigenetic regulation</td>\n      <td>Histone deacetylation</td>\n      <td>Entinostat (MS-275)_10</td>\n      <td>Entinostat (MS-275)</td>\n      <td>2.645024</td>\n      <td>rep2</td>\n      <td>2.140055</td>\n      <td>HDAC</td>\n      <td>0</td>\n      <td>4</td>\n    </tr>\n    <tr>\n      <th>H12_F10_RT_BC_9_Lig_BC_21-1-4</th>\n      <td>K562</td>\n      <td>10000.0</td>\n      <td>10000</td>\n      <td>1</td>\n      <td>0.929037</td>\n      <td>1.402202</td>\n      <td>Epigenetics</td>\n      <td>Epigenetic regulation</td>\n      <td>Histone deacetylation</td>\n      <td>Resveratrol_10000</td>\n      <td>Resveratrol</td>\n      <td>1.722089</td>\n      <td>rep1</td>\n      <td>0.652712</td>\n      <td>Autophagy,Sirtuin</td>\n      <td>0</td>\n      <td>4</td>\n    </tr>\n    <tr>\n      <th>H12_F10_RT_BC_9_Lig_BC_274-1-4</th>\n      <td>K562</td>\n      <td>10.0</td>\n      <td>10</td>\n      <td>4</td>\n      <td>1.601367</td>\n      <td>1.783351</td>\n      <td>Endocrinology &amp; Hormones</td>\n      <td>Nuclear receptor signaling</td>\n      <td>Nuclear receptor activity</td>\n      <td>Andarine_10</td>\n      <td>Andarine</td>\n      <td>2.293501</td>\n      <td>rep1</td>\n      <td>1.010150</td>\n      <td>Androgen Receptor</td>\n      <td>0</td>\n      <td>4</td>\n    </tr>\n  </tbody>\n</table>\n<p>581777 rows × 17 columns</p>\n</div>"
     },
     "execution_count": 4,
     "metadata": {},
     "output_type": "execute_result"
    },
    {
     "data": {
      "text/plain": "                                   cell_type     dose dose_character  \\\nindex                                                                  \nA01_E09_RT_BC_100_Lig_BC_245-0-0-0      A549   1000.0           1000   \nA01_E09_RT_BC_100_Lig_BC_306-0-0-0      A549     10.0             10   \nA01_E09_RT_BC_101_Lig_BC_109-0-0-0      A549      0.0              0   \nA01_E09_RT_BC_101_Lig_BC_229-0-0-0      A549     10.0             10   \nA01_E09_RT_BC_101_Lig_BC_280-0-0-0      A549   1000.0           1000   \n...                                      ...      ...            ...   \nH12_F10_RT_BC_99_Lig_BC_172-1-4         K562   1000.0           1000   \nH12_F10_RT_BC_99_Lig_BC_226-1-4         K562    100.0            100   \nH12_F10_RT_BC_99_Lig_BC_337-1-4         K562     10.0             10   \nH12_F10_RT_BC_9_Lig_BC_21-1-4           K562  10000.0          10000   \nH12_F10_RT_BC_9_Lig_BC_274-1-4          K562     10.0             10   \n\n                                   dose_pattern  g1s_score  g2m_score  \\\nindex                                                                   \nA01_E09_RT_BC_100_Lig_BC_245-0-0-0            2   1.155964   2.475312   \nA01_E09_RT_BC_100_Lig_BC_306-0-0-0            4   0.000000   1.980748   \nA01_E09_RT_BC_101_Lig_BC_109-0-0-0            3   0.000000   0.000000   \nA01_E09_RT_BC_101_Lig_BC_229-0-0-0            4   1.817254   2.801225   \nA01_E09_RT_BC_101_Lig_BC_280-0-0-0            2   1.637016   0.867074   \n...                                         ...        ...        ...   \nH12_F10_RT_BC_99_Lig_BC_172-1-4               2   0.000000   1.410709   \nH12_F10_RT_BC_99_Lig_BC_226-1-4               3   1.361383   1.361383   \nH12_F10_RT_BC_99_Lig_BC_337-1-4               4   1.956512   2.080587   \nH12_F10_RT_BC_9_Lig_BC_21-1-4                 1   0.929037   1.402202   \nH12_F10_RT_BC_9_Lig_BC_274-1-4                4   1.601367   1.783351   \n\n                                                     pathway  \\\nindex                                                          \nA01_E09_RT_BC_100_Lig_BC_245-0-0-0             TGF-beta/Smad   \nA01_E09_RT_BC_100_Lig_BC_306-0-0-0                DNA Damage   \nA01_E09_RT_BC_101_Lig_BC_109-0-0-0                   Vehicle   \nA01_E09_RT_BC_101_Lig_BC_229-0-0-0                 Apoptosis   \nA01_E09_RT_BC_101_Lig_BC_280-0-0-0                 Ubiquitin   \n...                                                      ...   \nH12_F10_RT_BC_99_Lig_BC_172-1-4                 Angiogenesis   \nH12_F10_RT_BC_99_Lig_BC_226-1-4                  Epigenetics   \nH12_F10_RT_BC_99_Lig_BC_337-1-4                  Epigenetics   \nH12_F10_RT_BC_9_Lig_BC_21-1-4                    Epigenetics   \nH12_F10_RT_BC_9_Lig_BC_274-1-4      Endocrinology & Hormones   \n\n                                                          pathway_level_1  \\\nindex                                                                       \nA01_E09_RT_BC_100_Lig_BC_245-0-0-0                          PKC signaling   \nA01_E09_RT_BC_100_Lig_BC_306-0-0-0                DNA damage & DNA repair   \nA01_E09_RT_BC_101_Lig_BC_109-0-0-0                                Vehicle   \nA01_E09_RT_BC_101_Lig_BC_229-0-0-0  Protein folding & Protein degradation   \nA01_E09_RT_BC_101_Lig_BC_280-0-0-0                  Epigenetic regulation   \n...                                                                   ...   \nH12_F10_RT_BC_99_Lig_BC_172-1-4                 Tyrosine kinase signaling   \nH12_F10_RT_BC_99_Lig_BC_226-1-4                        JAK/STAT signaling   \nH12_F10_RT_BC_99_Lig_BC_337-1-4                     Epigenetic regulation   \nH12_F10_RT_BC_9_Lig_BC_21-1-4                       Epigenetic regulation   \nH12_F10_RT_BC_9_Lig_BC_274-1-4                 Nuclear receptor signaling   \n\n                                                 pathway_level_2  \\\nindex                                                              \nA01_E09_RT_BC_100_Lig_BC_245-0-0-0                 PKC activitiy   \nA01_E09_RT_BC_100_Lig_BC_306-0-0-0             Nucleotide analog   \nA01_E09_RT_BC_101_Lig_BC_109-0-0-0                       Vehicle   \nA01_E09_RT_BC_101_Lig_BC_229-0-0-0  E3 ubiquitin ligase activity   \nA01_E09_RT_BC_101_Lig_BC_280-0-0-0         Histone deacetylation   \n...                                                          ...   \nH12_F10_RT_BC_99_Lig_BC_172-1-4                     RTK activity   \nH12_F10_RT_BC_99_Lig_BC_226-1-4              JAK kinase activity   \nH12_F10_RT_BC_99_Lig_BC_337-1-4            Histone deacetylation   \nH12_F10_RT_BC_9_Lig_BC_21-1-4              Histone deacetylation   \nH12_F10_RT_BC_9_Lig_BC_274-1-4         Nuclear receptor activity   \n\n                                                               product_dose  \\\nindex                                                                         \nA01_E09_RT_BC_100_Lig_BC_245-0-0-0              Enzastaurin (LY317615)_1000   \nA01_E09_RT_BC_100_Lig_BC_306-0-0-0                           Raltitrexed_10   \nA01_E09_RT_BC_101_Lig_BC_109-0-0-0                                Vehicle_0   \nA01_E09_RT_BC_101_Lig_BC_229-0-0-0                Lenalidomide (CC-5013)_10   \nA01_E09_RT_BC_101_Lig_BC_280-0-0-0                   Divalproex Sodium_1000   \n...                                                                     ...   \nH12_F10_RT_BC_99_Lig_BC_172-1-4                               PD173074_1000   \nH12_F10_RT_BC_99_Lig_BC_226-1-4     Baricitinib (LY3009104, INCB028050)_100   \nH12_F10_RT_BC_99_Lig_BC_337-1-4                      Entinostat (MS-275)_10   \nH12_F10_RT_BC_9_Lig_BC_21-1-4                             Resveratrol_10000   \nH12_F10_RT_BC_9_Lig_BC_274-1-4                                  Andarine_10   \n\n                                                           product_name  \\\nindex                                                                     \nA01_E09_RT_BC_100_Lig_BC_245-0-0-0               Enzastaurin (LY317615)   \nA01_E09_RT_BC_100_Lig_BC_306-0-0-0                          Raltitrexed   \nA01_E09_RT_BC_101_Lig_BC_109-0-0-0                              Vehicle   \nA01_E09_RT_BC_101_Lig_BC_229-0-0-0               Lenalidomide (CC-5013)   \nA01_E09_RT_BC_101_Lig_BC_280-0-0-0                    Divalproex Sodium   \n...                                                                 ...   \nH12_F10_RT_BC_99_Lig_BC_172-1-4                                PD173074   \nH12_F10_RT_BC_99_Lig_BC_226-1-4     Baricitinib (LY3009104, INCB028050)   \nH12_F10_RT_BC_99_Lig_BC_337-1-4                     Entinostat (MS-275)   \nH12_F10_RT_BC_9_Lig_BC_21-1-4                               Resveratrol   \nH12_F10_RT_BC_9_Lig_BC_274-1-4                                 Andarine   \n\n                                    proliferation_index replicate  \\\nindex                                                               \nA01_E09_RT_BC_100_Lig_BC_245-0-0-0             2.643512      rep2   \nA01_E09_RT_BC_100_Lig_BC_306-0-0-0             1.980748      rep2   \nA01_E09_RT_BC_101_Lig_BC_109-0-0-0             0.000000      rep1   \nA01_E09_RT_BC_101_Lig_BC_229-0-0-0             3.073606      rep2   \nA01_E09_RT_BC_101_Lig_BC_280-0-0-0             1.874835      rep2   \n...                                                 ...       ...   \nH12_F10_RT_BC_99_Lig_BC_172-1-4                1.410709      rep1   \nH12_F10_RT_BC_99_Lig_BC_226-1-4                1.917388      rep1   \nH12_F10_RT_BC_99_Lig_BC_337-1-4                2.645024      rep2   \nH12_F10_RT_BC_9_Lig_BC_21-1-4                  1.722089      rep1   \nH12_F10_RT_BC_9_Lig_BC_274-1-4                 2.293501      rep1   \n\n                                    size_factor             target  vehicle  \\\nindex                                                                         \nA01_E09_RT_BC_100_Lig_BC_245-0-0-0     2.296651                PKC        0   \nA01_E09_RT_BC_100_Lig_BC_306-0-0-0     0.480141  DNA/RNA Synthesis        0   \nA01_E09_RT_BC_101_Lig_BC_109-0-0-0     0.516561            Vehicle        1   \nA01_E09_RT_BC_101_Lig_BC_229-0-0-0     0.387978          TNF-alpha        0   \nA01_E09_RT_BC_101_Lig_BC_280-0-0-0     0.724671               HDAC        0   \n...                                         ...                ...      ...   \nH12_F10_RT_BC_99_Lig_BC_172-1-4        0.645399         FGFR,VEGFR        0   \nH12_F10_RT_BC_99_Lig_BC_226-1-4        0.689279                JAK        0   \nH12_F10_RT_BC_99_Lig_BC_337-1-4        2.140055               HDAC        0   \nH12_F10_RT_BC_9_Lig_BC_21-1-4          0.652712  Autophagy,Sirtuin        0   \nH12_F10_RT_BC_9_Lig_BC_274-1-4         1.010150  Androgen Receptor        0   \n\n                                   batch  \nindex                                     \nA01_E09_RT_BC_100_Lig_BC_245-0-0-0     0  \nA01_E09_RT_BC_100_Lig_BC_306-0-0-0     0  \nA01_E09_RT_BC_101_Lig_BC_109-0-0-0     0  \nA01_E09_RT_BC_101_Lig_BC_229-0-0-0     0  \nA01_E09_RT_BC_101_Lig_BC_280-0-0-0     0  \n...                                  ...  \nH12_F10_RT_BC_99_Lig_BC_172-1-4        4  \nH12_F10_RT_BC_99_Lig_BC_226-1-4        4  \nH12_F10_RT_BC_99_Lig_BC_337-1-4        4  \nH12_F10_RT_BC_9_Lig_BC_21-1-4          4  \nH12_F10_RT_BC_9_Lig_BC_274-1-4         4  \n\n[581777 rows x 17 columns]",
      "text/html": "<div>\n<style scoped>\n    .dataframe tbody tr th:only-of-type {\n        vertical-align: middle;\n    }\n\n    .dataframe tbody tr th {\n        vertical-align: top;\n    }\n\n    .dataframe thead th {\n        text-align: right;\n    }\n</style>\n<table border=\"1\" class=\"dataframe\">\n  <thead>\n    <tr style=\"text-align: right;\">\n      <th></th>\n      <th>cell_type</th>\n      <th>dose</th>\n      <th>dose_character</th>\n      <th>dose_pattern</th>\n      <th>g1s_score</th>\n      <th>g2m_score</th>\n      <th>pathway</th>\n      <th>pathway_level_1</th>\n      <th>pathway_level_2</th>\n      <th>product_dose</th>\n      <th>product_name</th>\n      <th>proliferation_index</th>\n      <th>replicate</th>\n      <th>size_factor</th>\n      <th>target</th>\n      <th>vehicle</th>\n      <th>batch</th>\n    </tr>\n    <tr>\n      <th>index</th>\n      <th></th>\n      <th></th>\n      <th></th>\n      <th></th>\n      <th></th>\n      <th></th>\n      <th></th>\n      <th></th>\n      <th></th>\n      <th></th>\n      <th></th>\n      <th></th>\n      <th></th>\n      <th></th>\n      <th></th>\n      <th></th>\n      <th></th>\n    </tr>\n  </thead>\n  <tbody>\n    <tr>\n      <th>A01_E09_RT_BC_100_Lig_BC_245-0-0-0</th>\n      <td>A549</td>\n      <td>1000.0</td>\n      <td>1000</td>\n      <td>2</td>\n      <td>1.155964</td>\n      <td>2.475312</td>\n      <td>TGF-beta/Smad</td>\n      <td>PKC signaling</td>\n      <td>PKC activitiy</td>\n      <td>Enzastaurin (LY317615)_1000</td>\n      <td>Enzastaurin (LY317615)</td>\n      <td>2.643512</td>\n      <td>rep2</td>\n      <td>2.296651</td>\n      <td>PKC</td>\n      <td>0</td>\n      <td>0</td>\n    </tr>\n    <tr>\n      <th>A01_E09_RT_BC_100_Lig_BC_306-0-0-0</th>\n      <td>A549</td>\n      <td>10.0</td>\n      <td>10</td>\n      <td>4</td>\n      <td>0.000000</td>\n      <td>1.980748</td>\n      <td>DNA Damage</td>\n      <td>DNA damage &amp; DNA repair</td>\n      <td>Nucleotide analog</td>\n      <td>Raltitrexed_10</td>\n      <td>Raltitrexed</td>\n      <td>1.980748</td>\n      <td>rep2</td>\n      <td>0.480141</td>\n      <td>DNA/RNA Synthesis</td>\n      <td>0</td>\n      <td>0</td>\n    </tr>\n    <tr>\n      <th>A01_E09_RT_BC_101_Lig_BC_109-0-0-0</th>\n      <td>A549</td>\n      <td>0.0</td>\n      <td>0</td>\n      <td>3</td>\n      <td>0.000000</td>\n      <td>0.000000</td>\n      <td>Vehicle</td>\n      <td>Vehicle</td>\n      <td>Vehicle</td>\n      <td>Vehicle_0</td>\n      <td>Vehicle</td>\n      <td>0.000000</td>\n      <td>rep1</td>\n      <td>0.516561</td>\n      <td>Vehicle</td>\n      <td>1</td>\n      <td>0</td>\n    </tr>\n    <tr>\n      <th>A01_E09_RT_BC_101_Lig_BC_229-0-0-0</th>\n      <td>A549</td>\n      <td>10.0</td>\n      <td>10</td>\n      <td>4</td>\n      <td>1.817254</td>\n      <td>2.801225</td>\n      <td>Apoptosis</td>\n      <td>Protein folding &amp; Protein degradation</td>\n      <td>E3 ubiquitin ligase activity</td>\n      <td>Lenalidomide (CC-5013)_10</td>\n      <td>Lenalidomide (CC-5013)</td>\n      <td>3.073606</td>\n      <td>rep2</td>\n      <td>0.387978</td>\n      <td>TNF-alpha</td>\n      <td>0</td>\n      <td>0</td>\n    </tr>\n    <tr>\n      <th>A01_E09_RT_BC_101_Lig_BC_280-0-0-0</th>\n      <td>A549</td>\n      <td>1000.0</td>\n      <td>1000</td>\n      <td>2</td>\n      <td>1.637016</td>\n      <td>0.867074</td>\n      <td>Ubiquitin</td>\n      <td>Epigenetic regulation</td>\n      <td>Histone deacetylation</td>\n      <td>Divalproex Sodium_1000</td>\n      <td>Divalproex Sodium</td>\n      <td>1.874835</td>\n      <td>rep2</td>\n      <td>0.724671</td>\n      <td>HDAC</td>\n      <td>0</td>\n      <td>0</td>\n    </tr>\n    <tr>\n      <th>...</th>\n      <td>...</td>\n      <td>...</td>\n      <td>...</td>\n      <td>...</td>\n      <td>...</td>\n      <td>...</td>\n      <td>...</td>\n      <td>...</td>\n      <td>...</td>\n      <td>...</td>\n      <td>...</td>\n      <td>...</td>\n      <td>...</td>\n      <td>...</td>\n      <td>...</td>\n      <td>...</td>\n      <td>...</td>\n    </tr>\n    <tr>\n      <th>H12_F10_RT_BC_99_Lig_BC_172-1-4</th>\n      <td>K562</td>\n      <td>1000.0</td>\n      <td>1000</td>\n      <td>2</td>\n      <td>0.000000</td>\n      <td>1.410709</td>\n      <td>Angiogenesis</td>\n      <td>Tyrosine kinase signaling</td>\n      <td>RTK activity</td>\n      <td>PD173074_1000</td>\n      <td>PD173074</td>\n      <td>1.410709</td>\n      <td>rep1</td>\n      <td>0.645399</td>\n      <td>FGFR,VEGFR</td>\n      <td>0</td>\n      <td>4</td>\n    </tr>\n    <tr>\n      <th>H12_F10_RT_BC_99_Lig_BC_226-1-4</th>\n      <td>K562</td>\n      <td>100.0</td>\n      <td>100</td>\n      <td>3</td>\n      <td>1.361383</td>\n      <td>1.361383</td>\n      <td>Epigenetics</td>\n      <td>JAK/STAT signaling</td>\n      <td>JAK kinase activity</td>\n      <td>Baricitinib (LY3009104, INCB028050)_100</td>\n      <td>Baricitinib (LY3009104, INCB028050)</td>\n      <td>1.917388</td>\n      <td>rep1</td>\n      <td>0.689279</td>\n      <td>JAK</td>\n      <td>0</td>\n      <td>4</td>\n    </tr>\n    <tr>\n      <th>H12_F10_RT_BC_99_Lig_BC_337-1-4</th>\n      <td>K562</td>\n      <td>10.0</td>\n      <td>10</td>\n      <td>4</td>\n      <td>1.956512</td>\n      <td>2.080587</td>\n      <td>Epigenetics</td>\n      <td>Epigenetic regulation</td>\n      <td>Histone deacetylation</td>\n      <td>Entinostat (MS-275)_10</td>\n      <td>Entinostat (MS-275)</td>\n      <td>2.645024</td>\n      <td>rep2</td>\n      <td>2.140055</td>\n      <td>HDAC</td>\n      <td>0</td>\n      <td>4</td>\n    </tr>\n    <tr>\n      <th>H12_F10_RT_BC_9_Lig_BC_21-1-4</th>\n      <td>K562</td>\n      <td>10000.0</td>\n      <td>10000</td>\n      <td>1</td>\n      <td>0.929037</td>\n      <td>1.402202</td>\n      <td>Epigenetics</td>\n      <td>Epigenetic regulation</td>\n      <td>Histone deacetylation</td>\n      <td>Resveratrol_10000</td>\n      <td>Resveratrol</td>\n      <td>1.722089</td>\n      <td>rep1</td>\n      <td>0.652712</td>\n      <td>Autophagy,Sirtuin</td>\n      <td>0</td>\n      <td>4</td>\n    </tr>\n    <tr>\n      <th>H12_F10_RT_BC_9_Lig_BC_274-1-4</th>\n      <td>K562</td>\n      <td>10.0</td>\n      <td>10</td>\n      <td>4</td>\n      <td>1.601367</td>\n      <td>1.783351</td>\n      <td>Endocrinology &amp; Hormones</td>\n      <td>Nuclear receptor signaling</td>\n      <td>Nuclear receptor activity</td>\n      <td>Andarine_10</td>\n      <td>Andarine</td>\n      <td>2.293501</td>\n      <td>rep1</td>\n      <td>1.010150</td>\n      <td>Androgen Receptor</td>\n      <td>0</td>\n      <td>4</td>\n    </tr>\n  </tbody>\n</table>\n<p>581777 rows × 17 columns</p>\n</div>"
     },
     "execution_count": 13,
     "metadata": {},
     "output_type": "execute_result"
    }
   ],
   "source": [
    "adata.obs"
   ]
  },
  {
   "cell_type": "markdown",
   "metadata": {},
   "source": [
    "adata.var is a dataframe containing annotation for each gene, usually some statistics such as dispersion, or gene names, pathways etc."
   ]
  },
  {
   "cell_type": "code",
   "execution_count": 14,
   "metadata": {
    "ExecuteTime": {
     "start_time": "2024-06-07T23:08:45.607406Z",
     "end_time": "2024-06-07T23:09:07.332829Z"
    }
   },
   "outputs": [
    {
     "data": {
      "text/plain": "                             id  num_cells_expressed-0-0  \\\nindex                                                      \nTSPAN6       ENSG00000000003.14                     4017   \nTNMD          ENSG00000000005.5                        3   \nDPM1         ENSG00000000419.12                     8442   \nSCYL3        ENSG00000000457.13                     4386   \nC1orf112     ENSG00000000460.16                     5998   \n...                         ...                      ...   \nAL591163.1    ENSG00000284744.1                        8   \nAL589702.1    ENSG00000284745.1                        2   \nAC068587.10   ENSG00000284746.1                        0   \nAL034417.4    ENSG00000284747.1                      230   \nAL513220.1    ENSG00000284748.1                        6   \n\n             num_cells_expressed-1-0  num_cells_expressed-1  \nindex                                                        \nTSPAN6                         13320                    199  \nTNMD                              14                      3  \nDPM1                           72353                  11231  \nSCYL3                          24120                   3380  \nC1orf112                       24454                   9555  \n...                              ...                    ...  \nAL591163.1                        26                     27  \nAL589702.1                         3                      0  \nAC068587.10                        0                      0  \nAL034417.4                       675                    634  \nAL513220.1                        81                     16  \n\n[58347 rows x 4 columns]",
      "text/html": "<div>\n<style scoped>\n    .dataframe tbody tr th:only-of-type {\n        vertical-align: middle;\n    }\n\n    .dataframe tbody tr th {\n        vertical-align: top;\n    }\n\n    .dataframe thead th {\n        text-align: right;\n    }\n</style>\n<table border=\"1\" class=\"dataframe\">\n  <thead>\n    <tr style=\"text-align: right;\">\n      <th></th>\n      <th>id</th>\n      <th>num_cells_expressed-0-0</th>\n      <th>num_cells_expressed-1-0</th>\n      <th>num_cells_expressed-1</th>\n    </tr>\n    <tr>\n      <th>index</th>\n      <th></th>\n      <th></th>\n      <th></th>\n      <th></th>\n    </tr>\n  </thead>\n  <tbody>\n    <tr>\n      <th>TSPAN6</th>\n      <td>ENSG00000000003.14</td>\n      <td>4017</td>\n      <td>13320</td>\n      <td>199</td>\n    </tr>\n    <tr>\n      <th>TNMD</th>\n      <td>ENSG00000000005.5</td>\n      <td>3</td>\n      <td>14</td>\n      <td>3</td>\n    </tr>\n    <tr>\n      <th>DPM1</th>\n      <td>ENSG00000000419.12</td>\n      <td>8442</td>\n      <td>72353</td>\n      <td>11231</td>\n    </tr>\n    <tr>\n      <th>SCYL3</th>\n      <td>ENSG00000000457.13</td>\n      <td>4386</td>\n      <td>24120</td>\n      <td>3380</td>\n    </tr>\n    <tr>\n      <th>C1orf112</th>\n      <td>ENSG00000000460.16</td>\n      <td>5998</td>\n      <td>24454</td>\n      <td>9555</td>\n    </tr>\n    <tr>\n      <th>...</th>\n      <td>...</td>\n      <td>...</td>\n      <td>...</td>\n      <td>...</td>\n    </tr>\n    <tr>\n      <th>AL591163.1</th>\n      <td>ENSG00000284744.1</td>\n      <td>8</td>\n      <td>26</td>\n      <td>27</td>\n    </tr>\n    <tr>\n      <th>AL589702.1</th>\n      <td>ENSG00000284745.1</td>\n      <td>2</td>\n      <td>3</td>\n      <td>0</td>\n    </tr>\n    <tr>\n      <th>AC068587.10</th>\n      <td>ENSG00000284746.1</td>\n      <td>0</td>\n      <td>0</td>\n      <td>0</td>\n    </tr>\n    <tr>\n      <th>AL034417.4</th>\n      <td>ENSG00000284747.1</td>\n      <td>230</td>\n      <td>675</td>\n      <td>634</td>\n    </tr>\n    <tr>\n      <th>AL513220.1</th>\n      <td>ENSG00000284748.1</td>\n      <td>6</td>\n      <td>81</td>\n      <td>16</td>\n    </tr>\n  </tbody>\n</table>\n<p>58347 rows × 4 columns</p>\n</div>"
     },
     "execution_count": 5,
     "metadata": {},
     "output_type": "execute_result"
    },
    {
     "data": {
      "text/plain": "                             id  num_cells_expressed-0-0  \\\nindex                                                      \nTSPAN6       ENSG00000000003.14                     4017   \nTNMD          ENSG00000000005.5                        3   \nDPM1         ENSG00000000419.12                     8442   \nSCYL3        ENSG00000000457.13                     4386   \nC1orf112     ENSG00000000460.16                     5998   \n...                         ...                      ...   \nAL591163.1    ENSG00000284744.1                        8   \nAL589702.1    ENSG00000284745.1                        2   \nAC068587.10   ENSG00000284746.1                        0   \nAL034417.4    ENSG00000284747.1                      230   \nAL513220.1    ENSG00000284748.1                        6   \n\n             num_cells_expressed-1-0  num_cells_expressed-1  \nindex                                                        \nTSPAN6                         13320                    199  \nTNMD                              14                      3  \nDPM1                           72353                  11231  \nSCYL3                          24120                   3380  \nC1orf112                       24454                   9555  \n...                              ...                    ...  \nAL591163.1                        26                     27  \nAL589702.1                         3                      0  \nAC068587.10                        0                      0  \nAL034417.4                       675                    634  \nAL513220.1                        81                     16  \n\n[58347 rows x 4 columns]",
      "text/html": "<div>\n<style scoped>\n    .dataframe tbody tr th:only-of-type {\n        vertical-align: middle;\n    }\n\n    .dataframe tbody tr th {\n        vertical-align: top;\n    }\n\n    .dataframe thead th {\n        text-align: right;\n    }\n</style>\n<table border=\"1\" class=\"dataframe\">\n  <thead>\n    <tr style=\"text-align: right;\">\n      <th></th>\n      <th>id</th>\n      <th>num_cells_expressed-0-0</th>\n      <th>num_cells_expressed-1-0</th>\n      <th>num_cells_expressed-1</th>\n    </tr>\n    <tr>\n      <th>index</th>\n      <th></th>\n      <th></th>\n      <th></th>\n      <th></th>\n    </tr>\n  </thead>\n  <tbody>\n    <tr>\n      <th>TSPAN6</th>\n      <td>ENSG00000000003.14</td>\n      <td>4017</td>\n      <td>13320</td>\n      <td>199</td>\n    </tr>\n    <tr>\n      <th>TNMD</th>\n      <td>ENSG00000000005.5</td>\n      <td>3</td>\n      <td>14</td>\n      <td>3</td>\n    </tr>\n    <tr>\n      <th>DPM1</th>\n      <td>ENSG00000000419.12</td>\n      <td>8442</td>\n      <td>72353</td>\n      <td>11231</td>\n    </tr>\n    <tr>\n      <th>SCYL3</th>\n      <td>ENSG00000000457.13</td>\n      <td>4386</td>\n      <td>24120</td>\n      <td>3380</td>\n    </tr>\n    <tr>\n      <th>C1orf112</th>\n      <td>ENSG00000000460.16</td>\n      <td>5998</td>\n      <td>24454</td>\n      <td>9555</td>\n    </tr>\n    <tr>\n      <th>...</th>\n      <td>...</td>\n      <td>...</td>\n      <td>...</td>\n      <td>...</td>\n    </tr>\n    <tr>\n      <th>AL591163.1</th>\n      <td>ENSG00000284744.1</td>\n      <td>8</td>\n      <td>26</td>\n      <td>27</td>\n    </tr>\n    <tr>\n      <th>AL589702.1</th>\n      <td>ENSG00000284745.1</td>\n      <td>2</td>\n      <td>3</td>\n      <td>0</td>\n    </tr>\n    <tr>\n      <th>AC068587.10</th>\n      <td>ENSG00000284746.1</td>\n      <td>0</td>\n      <td>0</td>\n      <td>0</td>\n    </tr>\n    <tr>\n      <th>AL034417.4</th>\n      <td>ENSG00000284747.1</td>\n      <td>230</td>\n      <td>675</td>\n      <td>634</td>\n    </tr>\n    <tr>\n      <th>AL513220.1</th>\n      <td>ENSG00000284748.1</td>\n      <td>6</td>\n      <td>81</td>\n      <td>16</td>\n    </tr>\n  </tbody>\n</table>\n<p>58347 rows × 4 columns</p>\n</div>"
     },
     "execution_count": 14,
     "metadata": {},
     "output_type": "execute_result"
    }
   ],
   "source": [
    "adata.var"
   ]
  },
  {
   "cell_type": "markdown",
   "metadata": {},
   "source": [
    "## Quality control\n",
    "Check the quality of the data and remove some cells."
   ]
  },
  {
   "cell_type": "code",
   "execution_count": 15,
   "metadata": {
    "ExecuteTime": {
     "start_time": "2024-06-07T23:08:52.556333Z",
     "end_time": "2024-06-07T23:09:14.167865Z"
    }
   },
   "outputs": [],
   "source": [
    "adata.obs['n_counts'] = np.ravel(adata.X.sum(1)) #number of counts in the cell\n",
    "adata.obs['n_genes'] = np.ravel(np.sum(adata.X > 0, axis=1)) #number of genes with at least 1 count per cell\n",
    "adata.var['mito'] = adata.var_names.str.contains(\"MT-\") #flag for mitochondrial genes\n",
    "adata.obs['mt_frac'] = np.ravel(adata.X[:, adata.var.mito].sum(1)) / adata.obs['n_counts'].values #fraction of mitochondrial gene exp, high values mean dead or bad quality cells"
   ]
  },
  {
   "cell_type": "code",
   "execution_count": 16,
   "metadata": {
    "ExecuteTime": {
     "start_time": "2024-06-07T23:08:53.189091Z",
     "end_time": "2024-06-07T23:09:14.764610Z"
    }
   },
   "outputs": [
    {
     "data": {
      "text/plain": "View of AnnData object with n_obs × n_vars = 244556 × 58347\n    obs: 'cell_type', 'dose', 'dose_character', 'dose_pattern', 'g1s_score', 'g2m_score', 'pathway', 'pathway_level_1', 'pathway_level_2', 'product_dose', 'product_name', 'proliferation_index', 'replicate', 'size_factor', 'target', 'vehicle', 'batch', 'n_counts', 'n_genes', 'mt_frac'\n    var: 'id', 'num_cells_expressed-0-0', 'num_cells_expressed-1-0', 'num_cells_expressed-1', 'mito'"
     },
     "execution_count": 7,
     "metadata": {},
     "output_type": "execute_result"
    },
    {
     "data": {
      "text/plain": "View of AnnData object with n_obs × n_vars = 244556 × 58347\n    obs: 'cell_type', 'dose', 'dose_character', 'dose_pattern', 'g1s_score', 'g2m_score', 'pathway', 'pathway_level_1', 'pathway_level_2', 'product_dose', 'product_name', 'proliferation_index', 'replicate', 'size_factor', 'target', 'vehicle', 'batch', 'n_counts', 'n_genes', 'mt_frac'\n    var: 'id', 'num_cells_expressed-0-0', 'num_cells_expressed-1-0', 'num_cells_expressed-1', 'mito'"
     },
     "execution_count": 16,
     "metadata": {},
     "output_type": "execute_result"
    }
   ],
   "source": [
    "# filtering\n",
    "adata = adata[adata.obs['n_counts'] > 500]\n",
    "adata = adata[adata.obs['n_genes'] > 750]\n",
    "adata = adata[adata.obs['mt_frac'] < 0.2]\n",
    "adata"
   ]
  },
  {
   "cell_type": "markdown",
   "metadata": {},
   "source": [
    "## Normalization"
   ]
  },
  {
   "cell_type": "code",
   "execution_count": 17,
   "metadata": {
    "ExecuteTime": {
     "start_time": "2024-06-07T23:08:54.688032Z",
     "end_time": "2024-06-07T23:09:16.264329Z"
    }
   },
   "outputs": [
    {
     "data": {
      "text/plain": "8555.0"
     },
     "execution_count": 8,
     "metadata": {},
     "output_type": "execute_result"
    },
    {
     "data": {
      "text/plain": "8555.0"
     },
     "execution_count": 17,
     "metadata": {},
     "output_type": "execute_result"
    }
   ],
   "source": [
    "adata.X.max() #check it's an int, to make sure it's count data and not preprocessed data"
   ]
  },
  {
   "cell_type": "code",
   "execution_count": 18,
   "metadata": {
    "ExecuteTime": {
     "start_time": "2024-06-07T23:08:58.415997Z",
     "end_time": "2024-06-07T23:09:19.956205Z"
    }
   },
   "outputs": [],
   "source": [
    "sc.pp.subsample(adata, fraction=0.5, random_state=0)\n",
    "\n",
    "sc.pp.normalize_per_cell(adata)\n",
    "sc.pp.log1p(adata)"
   ]
  },
  {
   "cell_type": "markdown",
   "metadata": {},
   "source": [
    "## Feature (gene) selection\n",
    "We select only the top N most variable genes."
   ]
  },
  {
   "cell_type": "code",
   "execution_count": 19,
   "metadata": {
    "ExecuteTime": {
     "start_time": "2024-06-07T23:09:19.960202Z",
     "end_time": "2024-06-07T23:09:23.700042Z"
    }
   },
   "outputs": [],
   "source": [
    "sc.pp.highly_variable_genes(adata, n_top_genes=2000, subset=True)"
   ]
  },
  {
   "cell_type": "markdown",
   "metadata": {},
   "source": [
    "## Out-of-distribution selection"
   ]
  },
  {
   "cell_type": "code",
   "execution_count": 20,
   "metadata": {
    "ExecuteTime": {
     "start_time": "2024-06-07T23:09:23.703004Z",
     "end_time": "2024-06-07T23:09:23.708543Z"
    }
   },
   "outputs": [],
   "source": [
    "drugs = adata.obs.product_name.unique()\n",
    "drugs = drugs[~np.isin(drugs, ['Vehicle'])]"
   ]
  },
  {
   "cell_type": "code",
   "execution_count": 21,
   "metadata": {
    "ExecuteTime": {
     "start_time": "2024-06-07T23:09:23.709539Z",
     "end_time": "2024-06-07T23:09:59.225832Z"
    }
   },
   "outputs": [],
   "source": [
    "results = []\n",
    "for cond1 in drugs:\n",
    "    ad1 = adata[adata.obs.product_name == cond1]\n",
    "    ad2 = adata[adata.obs.product_name != cond1]\n",
    "    mean1 = ad1.X.mean(0)\n",
    "    mean2 = ad2.X.mean(0)\n",
    "    l2 = np.linalg.norm(mean1-mean2)\n",
    "    results.append({\n",
    "        'cond1': cond1,\n",
    "        'L2': l2\n",
    "    })\n",
    "df_vs_rest = pd.DataFrame(results)"
   ]
  },
  {
   "cell_type": "markdown",
   "metadata": {},
   "source": [
    "Pick biggest signals"
   ]
  },
  {
   "cell_type": "code",
   "execution_count": 22,
   "metadata": {
    "ExecuteTime": {
     "start_time": "2024-06-07T23:09:59.228834Z",
     "end_time": "2024-06-07T23:09:59.238797Z"
    }
   },
   "outputs": [
    {
     "data": {
      "text/plain": "array(['Bosutinib (SKI-606)', 'Belinostat (PXD101)', 'Dasatinib',\n       '(+)-JQ1', 'Flavopiridol HCl', 'Patupilone (EPO906, Epothilone B)',\n       'Tanespimycin (17-AAG)', 'Trametinib (GSK1120212)',\n       'Alvespimycin (17-DMAG) HCl', 'Pracinostat (SB939)',\n       'Givinostat (ITF2357)', 'Raltitrexed', 'Hesperadin', 'AR-42',\n       'Abexinostat (PCI-24781)', 'CUDC-907', 'Dacinostat (LAQ824)',\n       'Panobinostat (LBH589)', 'YM155 (Sepantronium Bromide)',\n       'Quisinostat (JNJ-26481585) 2HCl'], dtype=object)"
     },
     "execution_count": 22,
     "metadata": {},
     "output_type": "execute_result"
    }
   ],
   "source": [
    "drug_OOD = df_vs_rest.sort_values(by='L2').tail(20).cond1.values\n",
    "drug_OOD"
   ]
  },
  {
   "cell_type": "markdown",
   "metadata": {},
   "source": [
    "## Prepare for the model"
   ]
  },
  {
   "cell_type": "code",
   "execution_count": 23,
   "metadata": {
    "ExecuteTime": {
     "start_time": "2024-06-07T23:09:59.237800Z",
     "end_time": "2024-06-07T23:09:59.254754Z"
    }
   },
   "outputs": [],
   "source": [
    "adata.uns['fields'] = {}"
   ]
  },
  {
   "cell_type": "code",
   "execution_count": 24,
   "metadata": {
    "ExecuteTime": {
     "start_time": "2024-06-07T23:09:59.253758Z",
     "end_time": "2024-06-07T23:09:59.296690Z"
    }
   },
   "outputs": [],
   "source": [
    "adata.obs['perturbation'] = [x.split(' ')[0] for x in adata.obs['product_name']]\n",
    "adata.uns['fields']['perturbation'] = 'perturbation'"
   ]
  },
  {
   "cell_type": "code",
   "execution_count": 25,
   "metadata": {
    "ExecuteTime": {
     "start_time": "2024-06-07T23:09:59.319661Z",
     "end_time": "2024-06-07T23:09:59.338096Z"
    }
   },
   "outputs": [],
   "source": [
    "adata.obs['control'] = [1 if x == 'Vehicle' else 0 for x in adata.obs['perturbation'].values]\n",
    "adata.uns['fields']['control'] = 'control'"
   ]
  },
  {
   "cell_type": "code",
   "execution_count": 26,
   "metadata": {
    "ExecuteTime": {
     "start_time": "2024-06-07T23:09:59.369020Z",
     "end_time": "2024-06-07T23:09:59.374998Z"
    }
   },
   "outputs": [],
   "source": [
    "adata.obs['dose'] = adata.obs['dose'].astype(float) / np.max(adata.obs['dose'].astype(float))\n",
    "adata.uns['fields']['dose'] = 'dose'"
   ]
  },
  {
   "cell_type": "code",
   "execution_count": 27,
   "metadata": {
    "ExecuteTime": {
     "start_time": "2024-06-07T23:09:59.369020Z",
     "end_time": "2024-06-07T23:09:59.374998Z"
    }
   },
   "outputs": [],
   "source": [
    "adata.uns['fields']['covariates'] = ['cell_type', 'replicate']"
   ]
  },
  {
   "cell_type": "code",
   "execution_count": 28,
   "metadata": {
    "ExecuteTime": {
     "start_time": "2024-06-07T23:09:59.369020Z",
     "end_time": "2024-06-07T23:09:59.374998Z"
    }
   },
   "outputs": [],
   "source": [
    "del adata.uns['log1p']"
   ]
  },
  {
   "cell_type": "code",
   "execution_count": 29,
   "metadata": {
    "ExecuteTime": {
     "start_time": "2024-06-07T23:09:59.369020Z",
     "end_time": "2024-06-07T23:09:59.420878Z"
    }
   },
   "outputs": [],
   "source": [
    "# split dataset\n",
    "\n",
    "from sklearn.model_selection import train_test_split\n",
    "\n",
    "adata.obs['split'] = 'NA'\n",
    "adata.uns['fields']['split'] = 'split'\n",
    "\n",
    "adata.obs.loc[\n",
    "    (adata.obs['cell_type'] == 'MCF7') & (adata.obs['product_name'].isin(drug_OOD)),\n",
    "    'split'\n",
    "] = 'ood'\n",
    "\n",
    "idx = np.where(adata.obs['split']=='NA')[0]\n",
    "idx_train, idx_test = train_test_split(idx, test_size=0.2, random_state=42)\n",
    "\n",
    "adata.obs.iloc[idx_train, adata.obs.columns.get_loc('split')] = 'train'\n",
    "adata.obs.iloc[idx_test, adata.obs.columns.get_loc('split')] = 'test'"
   ]
  },
  {
   "cell_type": "markdown",
   "metadata": {},
   "source": [
    "Rank DE genes (optional)"
   ]
  },
  {
   "cell_type": "code",
   "execution_count": 30,
   "metadata": {},
   "outputs": [
    {
     "ename": "ModuleNotFoundError",
     "evalue": "No module named 'vci'",
     "output_type": "error",
     "traceback": [
      "\u001B[0;31m---------------------------------------------------------------------------\u001B[0m",
      "\u001B[0;31mModuleNotFoundError\u001B[0m                       Traceback (most recent call last)",
      "Cell \u001B[0;32mIn[30], line 20\u001B[0m\n\u001B[1;32m     16\u001B[0m adata\u001B[38;5;241m.\u001B[39mobs[\u001B[38;5;124m\"\u001B[39m\u001B[38;5;124mcov_pert_name\u001B[39m\u001B[38;5;124m\"\u001B[39m] \u001B[38;5;241m=\u001B[39m cov_pert_names\n\u001B[1;32m     18\u001B[0m \u001B[38;5;28;01mimport\u001B[39;00m \u001B[38;5;21;01mwarnings\u001B[39;00m\n\u001B[0;32m---> 20\u001B[0m \u001B[38;5;28;01mfrom\u001B[39;00m \u001B[38;5;21;01mvci\u001B[39;00m\u001B[38;5;21;01m.\u001B[39;00m\u001B[38;5;21;01mutils\u001B[39;00m\u001B[38;5;21;01m.\u001B[39;00m\u001B[38;5;21;01mdata_utils\u001B[39;00m \u001B[38;5;28;01mimport\u001B[39;00m rank_genes_groups\n\u001B[1;32m     22\u001B[0m \u001B[38;5;28;01mwith\u001B[39;00m warnings\u001B[38;5;241m.\u001B[39mcatch_warnings():\n\u001B[1;32m     23\u001B[0m     warnings\u001B[38;5;241m.\u001B[39msimplefilter(\u001B[38;5;124m\"\u001B[39m\u001B[38;5;124mignore\u001B[39m\u001B[38;5;124m\"\u001B[39m)\n",
      "\u001B[0;31mModuleNotFoundError\u001B[0m: No module named 'vci'"
     ]
    }
   ],
   "source": [
    "# this will be done in main script if it's not done here\n",
    "\n",
    "cov_names = []\n",
    "for cov in adata.uns['fields']['covariates']:\n",
    "    cov_names.append(np.array(adata.obs[cov].values))\n",
    "cov_names = [\"_\".join(c) for c in zip(*cov_names)]\n",
    "adata.obs[\"cov_name\"] = cov_names\n",
    "\n",
    "cov_pert_names = []\n",
    "for i in range(len(adata)):\n",
    "    comb_name = (\n",
    "        f\"{adata.obs['cov_name'].values[i]}\"\n",
    "        f\"_{adata.obs[adata.uns['fields']['perturbation']].values[i]}\"\n",
    "    )\n",
    "    cov_pert_names.append(comb_name)\n",
    "adata.obs[\"cov_pert_name\"] = cov_pert_names\n",
    "\n",
    "import warnings\n",
    "\n",
    "from vci.utils.data_utils import rank_genes_groups\n",
    "\n",
    "with warnings.catch_warnings():\n",
    "    warnings.simplefilter(\"ignore\")\n",
    "    rank_genes_groups(adata,\n",
    "        groupby=\"cov_pert_name\",\n",
    "        reference=\"cov_name\",\n",
    "        control_key=\"control\"\n",
    "    )"
   ]
  },
  {
   "cell_type": "code",
   "execution_count": null,
   "metadata": {},
   "outputs": [],
   "source": [
    "adata.obs"
   ]
  },
  {
   "cell_type": "code",
   "execution_count": null,
   "metadata": {},
   "outputs": [],
   "source": [
    "adata.write('sciplex_prepped.h5ad')"
   ]
  },
  {
   "cell_type": "markdown",
   "metadata": {},
   "source": []
  }
 ],
 "metadata": {
  "kernelspec": {
   "display_name": "vci",
   "language": "python",
   "name": "python3"
  },
  "language_info": {
   "codemirror_mode": {
    "name": "ipython",
    "version": 3
   },
   "file_extension": ".py",
   "mimetype": "text/x-python",
   "name": "python",
   "nbconvert_exporter": "python",
   "pygments_lexer": "ipython3",
   "version": "3.9.0"
  },
  "orig_nbformat": 4,
  "vscode": {
   "interpreter": {
    "hash": "3e5fcf1b07f9f5bb54a7c148f7728b1d77562348c6857cb75de2e59bd84cd0b9"
   }
  }
 },
 "nbformat": 4,
 "nbformat_minor": 2
}
